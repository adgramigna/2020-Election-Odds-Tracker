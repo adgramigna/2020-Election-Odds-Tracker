{
 "cells": [
  {
   "cell_type": "code",
   "execution_count": 187,
   "metadata": {},
   "outputs": [],
   "source": [
    "import pandas as pd\n",
    "import numpy as np\n",
    "import datetime\n",
    "\n",
    "from OddsCalculator import OddsCalculator as util"
   ]
  },
  {
   "cell_type": "code",
   "execution_count": 188,
   "metadata": {},
   "outputs": [],
   "source": [
    "#Raw odds from two sources\n",
    "# 1. https://www.sportsbettingdime.com/politics/2020-us-presidential-election-odds/\n",
    "# 2. https://www.gamblingsites.org/blog/2020-election-betting-odds-election-night-changes/\n",
    "\n",
    "odds = pd.read_excel('Election Odds Raw.xlsx', sheet_name='Sheet1').set_index('date')"
   ]
  },
  {
   "cell_type": "code",
   "execution_count": 189,
   "metadata": {},
   "outputs": [],
   "source": [
    "odds['trump_odds'] = odds['trump_odds'].astype(str)\n",
    "odds['biden_odds'] = odds['biden_odds'].astype(str)"
   ]
  },
  {
   "cell_type": "code",
   "execution_count": 190,
   "metadata": {},
   "outputs": [],
   "source": [
    "#adds a plus sign to the American odds. Essential for conversion to probabilities\n",
    "\n",
    "def add_plus(val):\n",
    "    if '-' not in val and '+' not in val:\n",
    "        val = '+' + val\n",
    "    return val"
   ]
  },
  {
   "cell_type": "code",
   "execution_count": 191,
   "metadata": {},
   "outputs": [],
   "source": [
    "odds['trump_odds'] = odds['trump_odds'].apply(add_plus)\n",
    "odds['biden_odds'] = odds['biden_odds'].apply(add_plus)"
   ]
  },
  {
   "cell_type": "code",
   "execution_count": 192,
   "metadata": {},
   "outputs": [],
   "source": [
    "odds['trump_odds_dec'] = odds['trump_odds'].apply(util.calculate_odds).str[1]\n",
    "odds['biden_odds_dec'] = odds['biden_odds'].apply(util.calculate_odds).str[1]"
   ]
  },
  {
   "cell_type": "code",
   "execution_count": 193,
   "metadata": {},
   "outputs": [],
   "source": [
    "#Calculate the book's hold, for fun\n",
    "\n",
    "odds['hold'] = odds.apply(lambda x: util.calculate_hold([x['trump_odds_dec'], x['biden_odds_dec']]),axis=1)"
   ]
  },
  {
   "cell_type": "code",
   "execution_count": 105,
   "metadata": {},
   "outputs": [],
   "source": [
    "#Calculate the true odds of each candidate winning\n",
    "\n",
    "odds['trump_win_perc'] = odds.apply(lambda x: util.actual_probability([x['trump_odds'], x['biden_odds_dec']]),axis=1).str[0]\n",
    "odds['biden_win_perc'] = odds.apply(lambda x: util.actual_probability([x['trump_odds'], x['biden_odds_dec']]),axis=1).str[1]"
   ]
  },
  {
   "cell_type": "code",
   "execution_count": 142,
   "metadata": {},
   "outputs": [],
   "source": [
    "#Append a final row indicating Biden's win\n",
    "\n",
    "final_row = pd.DataFrame(index=[pd.Timestamp(2020,11,7)], columns = ['trump_win_perc', 'biden_win_perc'])\n",
    "\n",
    "final_row['trump_win_perc'] = 0.0\n",
    "final_row['biden_win_perc'] = 1.0"
   ]
  },
  {
   "cell_type": "code",
   "execution_count": 146,
   "metadata": {},
   "outputs": [],
   "source": [
    "odds = odds.append(final_row, sort=False)"
   ]
  },
  {
   "cell_type": "code",
   "execution_count": 147,
   "metadata": {},
   "outputs": [],
   "source": [
    "odds.to_csv('final_odds.csv')"
   ]
  }
 ],
 "metadata": {
  "kernelspec": {
   "display_name": "Python 3",
   "language": "python",
   "name": "python3"
  },
  "language_info": {
   "codemirror_mode": {
    "name": "ipython",
    "version": 3
   },
   "file_extension": ".py",
   "mimetype": "text/x-python",
   "name": "python",
   "nbconvert_exporter": "python",
   "pygments_lexer": "ipython3",
   "version": "3.6.6"
  }
 },
 "nbformat": 4,
 "nbformat_minor": 2
}
